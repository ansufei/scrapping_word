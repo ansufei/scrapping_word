{
 "cells": [
  {
   "cell_type": "code",
   "execution_count": null,
   "metadata": {},
   "outputs": [],
   "source": [
    "%load_ext autoreload\n",
    "%autoreload 2"
   ]
  },
  {
   "cell_type": "code",
   "execution_count": null,
   "metadata": {},
   "outputs": [],
   "source": [
    "from docx import Document\n",
    "from mise_en_page import *\n",
    "import os\n",
    "from dotenv import load_dotenv\n",
    "load_dotenv()"
   ]
  },
  {
   "cell_type": "code",
   "execution_count": null,
   "metadata": {},
   "outputs": [],
   "source": [
    "# load documents\n",
    "example_path = '../' + os.getenv('example_path')\n",
    "example = Document(example_path)\n",
    "aragon_path = '../' + os.getenv('aragon_path')\n",
    "aragon = Document(aragon_path)"
   ]
  },
  {
   "cell_type": "code",
   "execution_count": null,
   "metadata": {},
   "outputs": [],
   "source": [
    "# mise en page\n",
    "\"\"\"Ajouter les numéros de page du livre dans le corps du texte, en début de page du livre, précédés par \n",
    "le mot « page » sans sauter de ligne avant, ni après.\n",
    "- check that the range of page numbers is complete, wherever it appears:ideally alone on the line,\n",
    "but sometimes in the middle of the text (use page range order and regex to pick them out)\n",
    "- add newline before and after the page number if necessary\n",
    "- add 'page ' before the number\n",
    "\"\"\"\n",
    "# page numbers that make up the whole text of a paragraph (the total nb of pages to be indicated manually)\n",
    "easy_pages = find_easy_page_numbers(aragon, 144)"
   ]
  },
  {
   "cell_type": "code",
   "execution_count": null,
   "metadata": {},
   "outputs": [],
   "source": [
    "# page numbers that are buried in the text of a paragraph. Also indicate the first page manually\n",
    "# in case the first page found through the method is not the actual first one indicated\n",
    "hidden_pages_loc = narrow_location_hidden_page_numbers(9, 144, easy_pages)"
   ]
  },
  {
   "cell_type": "code",
   "execution_count": null,
   "metadata": {},
   "outputs": [],
   "source": [
    "still_missing = reformat_hidden_page_numbers(aragon, hidden_pages_loc)"
   ]
  },
  {
   "cell_type": "code",
   "execution_count": null,
   "metadata": {},
   "outputs": [],
   "source": [
    "aragon_reformatting_path = aragon_path.replace('.docx','1.docx')\n",
    "aragon.save(aragon_reformatting_path)"
   ]
  },
  {
   "cell_type": "code",
   "execution_count": null,
   "metadata": {},
   "outputs": [],
   "source": [
    "still_missing"
   ]
  },
  {
   "cell_type": "code",
   "execution_count": null,
   "metadata": {},
   "outputs": [],
   "source": []
  }
 ],
 "metadata": {
  "kernelspec": {
   "display_name": "env_baisser_barrieres",
   "language": "python",
   "name": "python3"
  },
  "language_info": {
   "codemirror_mode": {
    "name": "ipython",
    "version": 3
   },
   "file_extension": ".py",
   "mimetype": "text/x-python",
   "name": "python",
   "nbconvert_exporter": "python",
   "pygments_lexer": "ipython3",
   "version": "3.8.2"
  },
  "orig_nbformat": 4
 },
 "nbformat": 4,
 "nbformat_minor": 2
}

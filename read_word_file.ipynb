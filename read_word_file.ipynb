{
 "cells": [
  {
   "cell_type": "code",
   "execution_count": 212,
   "metadata": {},
   "outputs": [
    {
     "name": "stdout",
     "output_type": "stream",
     "text": [
      "The autoreload extension is already loaded. To reload it, use:\n",
      "  %reload_ext autoreload\n"
     ]
    }
   ],
   "source": [
    "%load_ext autoreload\n",
    "%autoreload 2"
   ]
  },
  {
   "cell_type": "code",
   "execution_count": 217,
   "metadata": {},
   "outputs": [
    {
     "data": {
      "text/plain": [
       "True"
      ]
     },
     "execution_count": 217,
     "metadata": {},
     "output_type": "execute_result"
    }
   ],
   "source": [
    "from docx import Document\n",
    "import re\n",
    "from miseEnPage import *\n",
    "import os\n",
    "from dotenv import load_dotenv\n",
    "load_dotenv()"
   ]
  },
  {
   "cell_type": "code",
   "execution_count": 218,
   "metadata": {},
   "outputs": [],
   "source": [
    "# load documents\n",
    "example = Document(os.getenv('example_path'))\n",
    "long = Document(os.getenv('long_path'))"
   ]
  },
  {
   "cell_type": "code",
   "execution_count": 219,
   "metadata": {},
   "outputs": [],
   "source": [
    "# mise en page\n",
    "\"\"\"Ajouter les numéros de page du livre dans le corps du texte, en début de page du livre, précédés par \n",
    "le mot « page » sans sauter de ligne avant, ni après.\n",
    "- check that the range of page numbers is complete, wherever it appears:ideally alone on the line,\n",
    "but sometimes in the middle of the text (use page range order and regex to pick them out)\n",
    "- add newline before and after the page number if necessary\n",
    "- add 'page ' before the number\n",
    "\"\"\"\n",
    "# page numbers that make up the whole text of a paragraph\n",
    "pages_found, page_number_loc = easy_find_all_pages(aragon.paragraphs, 144)\n"
   ]
  },
  {
   "cell_type": "code",
   "execution_count": null,
   "metadata": {},
   "outputs": [],
   "source": []
  }
 ],
 "metadata": {
  "kernelspec": {
   "display_name": "env_baisser_barrieres",
   "language": "python",
   "name": "python3"
  },
  "language_info": {
   "codemirror_mode": {
    "name": "ipython",
    "version": 3
   },
   "file_extension": ".py",
   "mimetype": "text/x-python",
   "name": "python",
   "nbconvert_exporter": "python",
   "pygments_lexer": "ipython3",
   "version": "3.8.2"
  },
  "orig_nbformat": 4
 },
 "nbformat": 4,
 "nbformat_minor": 2
}
